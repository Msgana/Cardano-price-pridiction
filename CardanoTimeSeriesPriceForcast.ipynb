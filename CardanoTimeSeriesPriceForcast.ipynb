{
 "cells": [
  {
   "cell_type": "markdown",
   "id": "c1aeb962-5c1e-4fe3-834a-06ef7869d2bb",
   "metadata": {},
   "source": [
    "### [Cardano](https://cardano.org/) Price Pridiction using the Time Series Model\n",
    "\n",
    "This jupyter notebook is written to pridict future prices for Cardano (ADA) digital coin which has been traded in the cryptocurrency market since 2017.\n",
    "\n",
    "\n",
    "\n",
    "**This project is not a financial advise and shouldn't be used for any investment decision ----- Only for educational purpose!!!**\n",
    "\n",
    "\n",
    "\n",
    "[Facebook prophet](https://facebook.github.io/prophet/) time series analysis model has been used to forcast prices for cardano digital coin.\n",
    "\n",
    "The input to Prophet is always a dataframe with two columns: ds and y. The ds (datestamp) column should be of a format expected by Pandas, ideally YYYY-MM-DD for a date or YYYY-MM-DD HH:MM:SS for a timestamp. The y column must be numeric, and represents the measurement we wish to forecast."
   ]
  },
  {
   "cell_type": "code",
   "execution_count": 6,
   "id": "a6ea4b91",
   "metadata": {},
   "outputs": [],
   "source": [
    "import warnings; \n",
    "warnings.simplefilter('ignore')"
   ]
  },
  {
   "cell_type": "markdown",
   "id": "8cd0c5fb",
   "metadata": {},
   "source": [
    "## Install required dependecies"
   ]
  },
  {
   "cell_type": "code",
   "execution_count": 7,
   "id": "52940819",
   "metadata": {
    "scrolled": true
   },
   "outputs": [
    {
     "name": "stdout",
     "output_type": "stream",
     "text": [
      "Requirement already satisfied: pandas in /Users/mgee/opt/anaconda3/lib/python3.8/site-packages (1.2.4)\n",
      "Requirement already satisfied: python-dateutil>=2.7.3 in /Users/mgee/opt/anaconda3/lib/python3.8/site-packages (from pandas) (2.8.1)\n",
      "Requirement already satisfied: pytz>=2017.3 in /Users/mgee/opt/anaconda3/lib/python3.8/site-packages (from pandas) (2021.1)\n",
      "Requirement already satisfied: numpy>=1.16.5 in /Users/mgee/opt/anaconda3/lib/python3.8/site-packages (from pandas) (1.20.1)\n",
      "Requirement already satisfied: six>=1.5 in /Users/mgee/opt/anaconda3/lib/python3.8/site-packages (from python-dateutil>=2.7.3->pandas) (1.15.0)\n",
      "Requirement already satisfied: prophet in /Users/mgee/opt/anaconda3/lib/python3.8/site-packages (1.0.1)\n",
      "Requirement already satisfied: Cython>=0.22 in /Users/mgee/opt/anaconda3/lib/python3.8/site-packages (from prophet) (0.29.23)\n",
      "Requirement already satisfied: cmdstanpy==0.9.68 in /Users/mgee/opt/anaconda3/lib/python3.8/site-packages (from prophet) (0.9.68)\n",
      "Requirement already satisfied: pystan~=2.19.1.1 in /Users/mgee/opt/anaconda3/lib/python3.8/site-packages (from prophet) (2.19.1.1)\n",
      "Requirement already satisfied: numpy>=1.15.4 in /Users/mgee/opt/anaconda3/lib/python3.8/site-packages (from prophet) (1.20.1)\n",
      "Requirement already satisfied: pandas>=1.0.4 in /Users/mgee/opt/anaconda3/lib/python3.8/site-packages (from prophet) (1.2.4)\n",
      "Requirement already satisfied: matplotlib>=2.0.0 in /Users/mgee/opt/anaconda3/lib/python3.8/site-packages (from prophet) (3.3.4)\n",
      "Requirement already satisfied: LunarCalendar>=0.0.9 in /Users/mgee/opt/anaconda3/lib/python3.8/site-packages (from prophet) (0.0.9)\n",
      "Requirement already satisfied: convertdate>=2.1.2 in /Users/mgee/opt/anaconda3/lib/python3.8/site-packages (from prophet) (2.3.2)\n",
      "Requirement already satisfied: holidays>=0.10.2 in /Users/mgee/opt/anaconda3/lib/python3.8/site-packages (from prophet) (0.11.3.1)\n",
      "Requirement already satisfied: setuptools-git>=1.2 in /Users/mgee/opt/anaconda3/lib/python3.8/site-packages (from prophet) (1.2)\n",
      "Requirement already satisfied: python-dateutil>=2.8.0 in /Users/mgee/opt/anaconda3/lib/python3.8/site-packages (from prophet) (2.8.1)\n",
      "Requirement already satisfied: tqdm>=4.36.1 in /Users/mgee/opt/anaconda3/lib/python3.8/site-packages (from prophet) (4.59.0)\n",
      "Requirement already satisfied: ujson in /Users/mgee/opt/anaconda3/lib/python3.8/site-packages (from cmdstanpy==0.9.68->prophet) (4.0.2)\n",
      "Requirement already satisfied: pytz>=2014.10 in /Users/mgee/opt/anaconda3/lib/python3.8/site-packages (from convertdate>=2.1.2->prophet) (2021.1)\n",
      "Requirement already satisfied: pymeeus<=1,>=0.3.13 in /Users/mgee/opt/anaconda3/lib/python3.8/site-packages (from convertdate>=2.1.2->prophet) (0.5.11)\n",
      "Requirement already satisfied: korean-lunar-calendar in /Users/mgee/opt/anaconda3/lib/python3.8/site-packages (from holidays>=0.10.2->prophet) (0.2.1)\n",
      "Requirement already satisfied: hijri-converter in /Users/mgee/opt/anaconda3/lib/python3.8/site-packages (from holidays>=0.10.2->prophet) (2.2.2)\n",
      "Requirement already satisfied: ephem>=3.7.5.3 in /Users/mgee/opt/anaconda3/lib/python3.8/site-packages (from LunarCalendar>=0.0.9->prophet) (4.1)\n",
      "Requirement already satisfied: pyparsing!=2.0.4,!=2.1.2,!=2.1.6,>=2.0.3 in /Users/mgee/opt/anaconda3/lib/python3.8/site-packages (from matplotlib>=2.0.0->prophet) (2.4.7)\n",
      "Requirement already satisfied: pillow>=6.2.0 in /Users/mgee/opt/anaconda3/lib/python3.8/site-packages (from matplotlib>=2.0.0->prophet) (8.2.0)\n",
      "Requirement already satisfied: cycler>=0.10 in /Users/mgee/opt/anaconda3/lib/python3.8/site-packages (from matplotlib>=2.0.0->prophet) (0.10.0)\n",
      "Requirement already satisfied: kiwisolver>=1.0.1 in /Users/mgee/opt/anaconda3/lib/python3.8/site-packages (from matplotlib>=2.0.0->prophet) (1.3.1)\n",
      "Requirement already satisfied: six in /Users/mgee/opt/anaconda3/lib/python3.8/site-packages (from cycler>=0.10->matplotlib>=2.0.0->prophet) (1.15.0)\n"
     ]
    }
   ],
   "source": [
    "!pip3 install pandas\n",
    "!pip3 install prophet"
   ]
  },
  {
   "cell_type": "markdown",
   "id": "a6ebb847-b19e-40eb-a164-6722d7c8dfb5",
   "metadata": {
    "tags": []
   },
   "source": [
    "## Import libraries "
   ]
  },
  {
   "cell_type": "code",
   "execution_count": 8,
   "id": "49e39b67",
   "metadata": {
    "scrolled": true
   },
   "outputs": [
    {
     "name": "stderr",
     "output_type": "stream",
     "text": [
      "Importing plotly failed. Interactive plots will not work.\n"
     ]
    }
   ],
   "source": [
    "import pandas as pd\n",
    "from datetime import datetime\n",
    "from prophet import Prophet\n",
    "from sklearn.metrics import explained_variance_score, mean_squared_error, r2_score"
   ]
  },
  {
   "cell_type": "markdown",
   "id": "73363a34-f062-4994-a08e-f65e92c3f89d",
   "metadata": {},
   "source": [
    "## Load data to the data frame "
   ]
  },
  {
   "cell_type": "code",
   "execution_count": 42,
   "id": "8b96594a",
   "metadata": {},
   "outputs": [],
   "source": [
    "df = pd.read_csv('ada.csv')"
   ]
  },
  {
   "cell_type": "code",
   "execution_count": null,
   "id": "b125068a-531b-4865-9458-a8d73ddf71ff",
   "metadata": {},
   "outputs": [],
   "source": [
    "### Format the date to meet the requirement \n",
    "\n"
   ]
  },
  {
   "cell_type": "code",
   "execution_count": 43,
   "id": "a0b9fb0d",
   "metadata": {},
   "outputs": [],
   "source": [
    "df[['month','day','year']] = df['date'].str.split('/',expand=True)"
   ]
  },
  {
   "cell_type": "code",
   "execution_count": 44,
   "id": "a1fb3f17",
   "metadata": {},
   "outputs": [],
   "source": [
    "df['updated'] = df['month']+'/'+df['day']+'/'+df['year']\n",
    "\n",
    "df['date_new'] = df.apply(lambda row: datetime.strptime(row['updated'], '%m/%d/%y'), axis=1)"
   ]
  },
  {
   "cell_type": "code",
   "execution_count": 45,
   "id": "c89ce895",
   "metadata": {},
   "outputs": [],
   "source": [
    "df['ds'] = pd.DatetimeIndex(df['date_new'])"
   ]
  },
  {
   "cell_type": "markdown",
   "id": "dc7146e0",
   "metadata": {},
   "source": []
  },
  {
   "cell_type": "code",
   "execution_count": 46,
   "id": "b83d26d7",
   "metadata": {},
   "outputs": [
    {
     "data": {
      "text/html": [
       "<div>\n",
       "<style scoped>\n",
       "    .dataframe tbody tr th:only-of-type {\n",
       "        vertical-align: middle;\n",
       "    }\n",
       "\n",
       "    .dataframe tbody tr th {\n",
       "        vertical-align: top;\n",
       "    }\n",
       "\n",
       "    .dataframe thead th {\n",
       "        text-align: right;\n",
       "    }\n",
       "</style>\n",
       "<table border=\"1\" class=\"dataframe\">\n",
       "  <thead>\n",
       "    <tr style=\"text-align: right;\">\n",
       "      <th></th>\n",
       "      <th>date</th>\n",
       "      <th>AdrActCnt</th>\n",
       "      <th>AdrBal1in100KCnt</th>\n",
       "      <th>AdrBal1in100MCnt</th>\n",
       "      <th>AdrBal1in10BCnt</th>\n",
       "      <th>AdrBal1in10KCnt</th>\n",
       "      <th>AdrBal1in10MCnt</th>\n",
       "      <th>AdrBal1in1BCnt</th>\n",
       "      <th>AdrBal1in1KCnt</th>\n",
       "      <th>AdrBal1in1MCnt</th>\n",
       "      <th>...</th>\n",
       "      <th>TxTfrValMedUSD</th>\n",
       "      <th>VelCur1yr</th>\n",
       "      <th>VtyDayRet180d</th>\n",
       "      <th>VtyDayRet30d</th>\n",
       "      <th>month</th>\n",
       "      <th>day</th>\n",
       "      <th>year</th>\n",
       "      <th>updated</th>\n",
       "      <th>date_new</th>\n",
       "      <th>ds</th>\n",
       "    </tr>\n",
       "  </thead>\n",
       "  <tbody>\n",
       "    <tr>\n",
       "      <th>0</th>\n",
       "      <td>9/23/17</td>\n",
       "      <td>0</td>\n",
       "      <td>14404</td>\n",
       "      <td>14405</td>\n",
       "      <td>14405</td>\n",
       "      <td>1811</td>\n",
       "      <td>14405</td>\n",
       "      <td>14405</td>\n",
       "      <td>68</td>\n",
       "      <td>14405</td>\n",
       "      <td>...</td>\n",
       "      <td>NaN</td>\n",
       "      <td>0.000000e+00</td>\n",
       "      <td>NaN</td>\n",
       "      <td>NaN</td>\n",
       "      <td>9</td>\n",
       "      <td>23</td>\n",
       "      <td>17</td>\n",
       "      <td>9/23/17</td>\n",
       "      <td>2017-09-23</td>\n",
       "      <td>2017-09-23</td>\n",
       "    </tr>\n",
       "    <tr>\n",
       "      <th>1</th>\n",
       "      <td>9/24/17</td>\n",
       "      <td>8</td>\n",
       "      <td>14404</td>\n",
       "      <td>14405</td>\n",
       "      <td>14405</td>\n",
       "      <td>1811</td>\n",
       "      <td>14405</td>\n",
       "      <td>14405</td>\n",
       "      <td>68</td>\n",
       "      <td>14405</td>\n",
       "      <td>...</td>\n",
       "      <td>NaN</td>\n",
       "      <td>9.000000e-11</td>\n",
       "      <td>NaN</td>\n",
       "      <td>NaN</td>\n",
       "      <td>9</td>\n",
       "      <td>24</td>\n",
       "      <td>17</td>\n",
       "      <td>9/24/17</td>\n",
       "      <td>2017-09-24</td>\n",
       "      <td>2017-09-24</td>\n",
       "    </tr>\n",
       "    <tr>\n",
       "      <th>2</th>\n",
       "      <td>9/25/17</td>\n",
       "      <td>16</td>\n",
       "      <td>14404</td>\n",
       "      <td>14405</td>\n",
       "      <td>14405</td>\n",
       "      <td>1811</td>\n",
       "      <td>14405</td>\n",
       "      <td>14405</td>\n",
       "      <td>68</td>\n",
       "      <td>14405</td>\n",
       "      <td>...</td>\n",
       "      <td>NaN</td>\n",
       "      <td>3.200000e-10</td>\n",
       "      <td>NaN</td>\n",
       "      <td>NaN</td>\n",
       "      <td>9</td>\n",
       "      <td>25</td>\n",
       "      <td>17</td>\n",
       "      <td>9/25/17</td>\n",
       "      <td>2017-09-25</td>\n",
       "      <td>2017-09-25</td>\n",
       "    </tr>\n",
       "    <tr>\n",
       "      <th>3</th>\n",
       "      <td>9/26/17</td>\n",
       "      <td>4</td>\n",
       "      <td>14404</td>\n",
       "      <td>14405</td>\n",
       "      <td>14405</td>\n",
       "      <td>1811</td>\n",
       "      <td>14405</td>\n",
       "      <td>14405</td>\n",
       "      <td>68</td>\n",
       "      <td>14405</td>\n",
       "      <td>...</td>\n",
       "      <td>NaN</td>\n",
       "      <td>3.550000e-10</td>\n",
       "      <td>NaN</td>\n",
       "      <td>NaN</td>\n",
       "      <td>9</td>\n",
       "      <td>26</td>\n",
       "      <td>17</td>\n",
       "      <td>9/26/17</td>\n",
       "      <td>2017-09-26</td>\n",
       "      <td>2017-09-26</td>\n",
       "    </tr>\n",
       "    <tr>\n",
       "      <th>4</th>\n",
       "      <td>9/27/17</td>\n",
       "      <td>12</td>\n",
       "      <td>14404</td>\n",
       "      <td>14406</td>\n",
       "      <td>14406</td>\n",
       "      <td>1811</td>\n",
       "      <td>14405</td>\n",
       "      <td>14406</td>\n",
       "      <td>68</td>\n",
       "      <td>14405</td>\n",
       "      <td>...</td>\n",
       "      <td>NaN</td>\n",
       "      <td>1.583333e-01</td>\n",
       "      <td>NaN</td>\n",
       "      <td>NaN</td>\n",
       "      <td>9</td>\n",
       "      <td>27</td>\n",
       "      <td>17</td>\n",
       "      <td>9/27/17</td>\n",
       "      <td>2017-09-27</td>\n",
       "      <td>2017-09-27</td>\n",
       "    </tr>\n",
       "  </tbody>\n",
       "</table>\n",
       "<p>5 rows × 122 columns</p>\n",
       "</div>"
      ],
      "text/plain": [
       "      date  AdrActCnt  AdrBal1in100KCnt  AdrBal1in100MCnt  AdrBal1in10BCnt  \\\n",
       "0  9/23/17          0             14404             14405            14405   \n",
       "1  9/24/17          8             14404             14405            14405   \n",
       "2  9/25/17         16             14404             14405            14405   \n",
       "3  9/26/17          4             14404             14405            14405   \n",
       "4  9/27/17         12             14404             14406            14406   \n",
       "\n",
       "   AdrBal1in10KCnt  AdrBal1in10MCnt  AdrBal1in1BCnt  AdrBal1in1KCnt  \\\n",
       "0             1811            14405           14405              68   \n",
       "1             1811            14405           14405              68   \n",
       "2             1811            14405           14405              68   \n",
       "3             1811            14405           14405              68   \n",
       "4             1811            14405           14406              68   \n",
       "\n",
       "   AdrBal1in1MCnt  ...  TxTfrValMedUSD     VelCur1yr  VtyDayRet180d  \\\n",
       "0           14405  ...             NaN  0.000000e+00            NaN   \n",
       "1           14405  ...             NaN  9.000000e-11            NaN   \n",
       "2           14405  ...             NaN  3.200000e-10            NaN   \n",
       "3           14405  ...             NaN  3.550000e-10            NaN   \n",
       "4           14405  ...             NaN  1.583333e-01            NaN   \n",
       "\n",
       "   VtyDayRet30d  month  day  year  updated   date_new         ds  \n",
       "0           NaN      9   23    17  9/23/17 2017-09-23 2017-09-23  \n",
       "1           NaN      9   24    17  9/24/17 2017-09-24 2017-09-24  \n",
       "2           NaN      9   25    17  9/25/17 2017-09-25 2017-09-25  \n",
       "3           NaN      9   26    17  9/26/17 2017-09-26 2017-09-26  \n",
       "4           NaN      9   27    17  9/27/17 2017-09-27 2017-09-27  \n",
       "\n",
       "[5 rows x 122 columns]"
      ]
     },
     "execution_count": 46,
     "metadata": {},
     "output_type": "execute_result"
    }
   ],
   "source": [
    "df.head()"
   ]
  },
  {
   "cell_type": "code",
   "execution_count": 47,
   "id": "7918c6a5",
   "metadata": {},
   "outputs": [
    {
     "data": {
      "text/html": [
       "<div>\n",
       "<style scoped>\n",
       "    .dataframe tbody tr th:only-of-type {\n",
       "        vertical-align: middle;\n",
       "    }\n",
       "\n",
       "    .dataframe tbody tr th {\n",
       "        vertical-align: top;\n",
       "    }\n",
       "\n",
       "    .dataframe thead th {\n",
       "        text-align: right;\n",
       "    }\n",
       "</style>\n",
       "<table border=\"1\" class=\"dataframe\">\n",
       "  <thead>\n",
       "    <tr style=\"text-align: right;\">\n",
       "      <th></th>\n",
       "      <th>date</th>\n",
       "      <th>AdrActCnt</th>\n",
       "      <th>AdrBal1in100KCnt</th>\n",
       "      <th>AdrBal1in100MCnt</th>\n",
       "      <th>AdrBal1in10BCnt</th>\n",
       "      <th>AdrBal1in10KCnt</th>\n",
       "      <th>AdrBal1in10MCnt</th>\n",
       "      <th>AdrBal1in1BCnt</th>\n",
       "      <th>AdrBal1in1KCnt</th>\n",
       "      <th>AdrBal1in1MCnt</th>\n",
       "      <th>...</th>\n",
       "      <th>TxTfrValMedUSD</th>\n",
       "      <th>VelCur1yr</th>\n",
       "      <th>VtyDayRet180d</th>\n",
       "      <th>VtyDayRet30d</th>\n",
       "      <th>month</th>\n",
       "      <th>day</th>\n",
       "      <th>year</th>\n",
       "      <th>updated</th>\n",
       "      <th>date_new</th>\n",
       "      <th>ds</th>\n",
       "    </tr>\n",
       "  </thead>\n",
       "  <tbody>\n",
       "    <tr>\n",
       "      <th>1450</th>\n",
       "      <td>9/12/21</td>\n",
       "      <td>157676</td>\n",
       "      <td>9582</td>\n",
       "      <td>910547</td>\n",
       "      <td>1945870</td>\n",
       "      <td>1005</td>\n",
       "      <td>301031</td>\n",
       "      <td>1609689</td>\n",
       "      <td>137</td>\n",
       "      <td>62149</td>\n",
       "      <td>...</td>\n",
       "      <td>597.986110</td>\n",
       "      <td>69.267663</td>\n",
       "      <td>0.063274</td>\n",
       "      <td>0.061453</td>\n",
       "      <td>9</td>\n",
       "      <td>12</td>\n",
       "      <td>21</td>\n",
       "      <td>9/12/21</td>\n",
       "      <td>2021-09-12</td>\n",
       "      <td>2021-09-12</td>\n",
       "    </tr>\n",
       "    <tr>\n",
       "      <th>1451</th>\n",
       "      <td>9/13/21</td>\n",
       "      <td>132467</td>\n",
       "      <td>9548</td>\n",
       "      <td>911118</td>\n",
       "      <td>1952943</td>\n",
       "      <td>1006</td>\n",
       "      <td>300808</td>\n",
       "      <td>1613998</td>\n",
       "      <td>138</td>\n",
       "      <td>62009</td>\n",
       "      <td>...</td>\n",
       "      <td>616.074970</td>\n",
       "      <td>69.330202</td>\n",
       "      <td>0.063119</td>\n",
       "      <td>0.062926</td>\n",
       "      <td>9</td>\n",
       "      <td>13</td>\n",
       "      <td>21</td>\n",
       "      <td>9/13/21</td>\n",
       "      <td>2021-09-13</td>\n",
       "      <td>2021-09-13</td>\n",
       "    </tr>\n",
       "    <tr>\n",
       "      <th>1452</th>\n",
       "      <td>9/14/21</td>\n",
       "      <td>137096</td>\n",
       "      <td>9551</td>\n",
       "      <td>914604</td>\n",
       "      <td>1963413</td>\n",
       "      <td>1002</td>\n",
       "      <td>301312</td>\n",
       "      <td>1621288</td>\n",
       "      <td>138</td>\n",
       "      <td>61978</td>\n",
       "      <td>...</td>\n",
       "      <td>461.856781</td>\n",
       "      <td>69.428474</td>\n",
       "      <td>0.062569</td>\n",
       "      <td>0.062886</td>\n",
       "      <td>9</td>\n",
       "      <td>14</td>\n",
       "      <td>21</td>\n",
       "      <td>9/14/21</td>\n",
       "      <td>2021-09-14</td>\n",
       "      <td>2021-09-14</td>\n",
       "    </tr>\n",
       "    <tr>\n",
       "      <th>1453</th>\n",
       "      <td>9/15/21</td>\n",
       "      <td>140285</td>\n",
       "      <td>9550</td>\n",
       "      <td>918316</td>\n",
       "      <td>1975963</td>\n",
       "      <td>1008</td>\n",
       "      <td>302236</td>\n",
       "      <td>1629556</td>\n",
       "      <td>138</td>\n",
       "      <td>62102</td>\n",
       "      <td>...</td>\n",
       "      <td>586.071606</td>\n",
       "      <td>69.557805</td>\n",
       "      <td>0.062532</td>\n",
       "      <td>0.062528</td>\n",
       "      <td>9</td>\n",
       "      <td>15</td>\n",
       "      <td>21</td>\n",
       "      <td>9/15/21</td>\n",
       "      <td>2021-09-15</td>\n",
       "      <td>2021-09-15</td>\n",
       "    </tr>\n",
       "    <tr>\n",
       "      <th>1454</th>\n",
       "      <td>9/16/21</td>\n",
       "      <td>140222</td>\n",
       "      <td>9527</td>\n",
       "      <td>921587</td>\n",
       "      <td>1987983</td>\n",
       "      <td>1010</td>\n",
       "      <td>302714</td>\n",
       "      <td>1637946</td>\n",
       "      <td>139</td>\n",
       "      <td>62201</td>\n",
       "      <td>...</td>\n",
       "      <td>580.538004</td>\n",
       "      <td>69.649431</td>\n",
       "      <td>0.062336</td>\n",
       "      <td>0.061205</td>\n",
       "      <td>9</td>\n",
       "      <td>16</td>\n",
       "      <td>21</td>\n",
       "      <td>9/16/21</td>\n",
       "      <td>2021-09-16</td>\n",
       "      <td>2021-09-16</td>\n",
       "    </tr>\n",
       "  </tbody>\n",
       "</table>\n",
       "<p>5 rows × 122 columns</p>\n",
       "</div>"
      ],
      "text/plain": [
       "         date  AdrActCnt  AdrBal1in100KCnt  AdrBal1in100MCnt  AdrBal1in10BCnt  \\\n",
       "1450  9/12/21     157676              9582            910547          1945870   \n",
       "1451  9/13/21     132467              9548            911118          1952943   \n",
       "1452  9/14/21     137096              9551            914604          1963413   \n",
       "1453  9/15/21     140285              9550            918316          1975963   \n",
       "1454  9/16/21     140222              9527            921587          1987983   \n",
       "\n",
       "      AdrBal1in10KCnt  AdrBal1in10MCnt  AdrBal1in1BCnt  AdrBal1in1KCnt  \\\n",
       "1450             1005           301031         1609689             137   \n",
       "1451             1006           300808         1613998             138   \n",
       "1452             1002           301312         1621288             138   \n",
       "1453             1008           302236         1629556             138   \n",
       "1454             1010           302714         1637946             139   \n",
       "\n",
       "      AdrBal1in1MCnt  ...  TxTfrValMedUSD  VelCur1yr  VtyDayRet180d  \\\n",
       "1450           62149  ...      597.986110  69.267663       0.063274   \n",
       "1451           62009  ...      616.074970  69.330202       0.063119   \n",
       "1452           61978  ...      461.856781  69.428474       0.062569   \n",
       "1453           62102  ...      586.071606  69.557805       0.062532   \n",
       "1454           62201  ...      580.538004  69.649431       0.062336   \n",
       "\n",
       "      VtyDayRet30d  month  day  year  updated   date_new         ds  \n",
       "1450      0.061453      9   12    21  9/12/21 2021-09-12 2021-09-12  \n",
       "1451      0.062926      9   13    21  9/13/21 2021-09-13 2021-09-13  \n",
       "1452      0.062886      9   14    21  9/14/21 2021-09-14 2021-09-14  \n",
       "1453      0.062528      9   15    21  9/15/21 2021-09-15 2021-09-15  \n",
       "1454      0.061205      9   16    21  9/16/21 2021-09-16 2021-09-16  \n",
       "\n",
       "[5 rows x 122 columns]"
      ]
     },
     "execution_count": 47,
     "metadata": {},
     "output_type": "execute_result"
    }
   ],
   "source": [
    "df.tail()"
   ]
  },
  {
   "cell_type": "markdown",
   "id": "1fc5e442-e465-4345-8cdb-2cd24bd42c44",
   "metadata": {},
   "source": [
    "## Drop all columns except the date and price \n",
    "The priceUSD column contains null cells which will be dropped later"
   ]
  },
  {
   "cell_type": "code",
   "execution_count": 52,
   "id": "a9a716bc",
   "metadata": {},
   "outputs": [],
   "source": [
    "df.drop(df.columns.difference(['ds','PriceUSD']), 1, inplace=True)"
   ]
  },
  {
   "cell_type": "code",
   "execution_count": 55,
   "id": "476838a4-556f-4380-aee8-a00ab2d3a730",
   "metadata": {},
   "outputs": [
    {
     "data": {
      "text/html": [
       "<div>\n",
       "<style scoped>\n",
       "    .dataframe tbody tr th:only-of-type {\n",
       "        vertical-align: middle;\n",
       "    }\n",
       "\n",
       "    .dataframe tbody tr th {\n",
       "        vertical-align: top;\n",
       "    }\n",
       "\n",
       "    .dataframe thead th {\n",
       "        text-align: right;\n",
       "    }\n",
       "</style>\n",
       "<table border=\"1\" class=\"dataframe\">\n",
       "  <thead>\n",
       "    <tr style=\"text-align: right;\">\n",
       "      <th></th>\n",
       "      <th>PriceUSD</th>\n",
       "      <th>ds</th>\n",
       "    </tr>\n",
       "  </thead>\n",
       "  <tbody>\n",
       "    <tr>\n",
       "      <th>0</th>\n",
       "      <td>NaN</td>\n",
       "      <td>2017-09-23</td>\n",
       "    </tr>\n",
       "    <tr>\n",
       "      <th>1</th>\n",
       "      <td>NaN</td>\n",
       "      <td>2017-09-24</td>\n",
       "    </tr>\n",
       "    <tr>\n",
       "      <th>2</th>\n",
       "      <td>NaN</td>\n",
       "      <td>2017-09-25</td>\n",
       "    </tr>\n",
       "    <tr>\n",
       "      <th>3</th>\n",
       "      <td>NaN</td>\n",
       "      <td>2017-09-26</td>\n",
       "    </tr>\n",
       "    <tr>\n",
       "      <th>4</th>\n",
       "      <td>NaN</td>\n",
       "      <td>2017-09-27</td>\n",
       "    </tr>\n",
       "  </tbody>\n",
       "</table>\n",
       "</div>"
      ],
      "text/plain": [
       "   PriceUSD         ds\n",
       "0       NaN 2017-09-23\n",
       "1       NaN 2017-09-24\n",
       "2       NaN 2017-09-25\n",
       "3       NaN 2017-09-26\n",
       "4       NaN 2017-09-27"
      ]
     },
     "execution_count": 55,
     "metadata": {},
     "output_type": "execute_result"
    }
   ],
   "source": [
    "df.head()"
   ]
  },
  {
   "cell_type": "code",
   "execution_count": 56,
   "id": "38485470",
   "metadata": {},
   "outputs": [
    {
     "data": {
      "text/html": [
       "<div>\n",
       "<style scoped>\n",
       "    .dataframe tbody tr th:only-of-type {\n",
       "        vertical-align: middle;\n",
       "    }\n",
       "\n",
       "    .dataframe tbody tr th {\n",
       "        vertical-align: top;\n",
       "    }\n",
       "\n",
       "    .dataframe thead th {\n",
       "        text-align: right;\n",
       "    }\n",
       "</style>\n",
       "<table border=\"1\" class=\"dataframe\">\n",
       "  <thead>\n",
       "    <tr style=\"text-align: right;\">\n",
       "      <th></th>\n",
       "      <th>PriceUSD</th>\n",
       "      <th>ds</th>\n",
       "    </tr>\n",
       "  </thead>\n",
       "  <tbody>\n",
       "    <tr>\n",
       "      <th>1450</th>\n",
       "      <td>2.598626</td>\n",
       "      <td>2021-09-12</td>\n",
       "    </tr>\n",
       "    <tr>\n",
       "      <th>1451</th>\n",
       "      <td>2.407190</td>\n",
       "      <td>2021-09-13</td>\n",
       "    </tr>\n",
       "    <tr>\n",
       "      <th>1452</th>\n",
       "      <td>2.395207</td>\n",
       "      <td>2021-09-14</td>\n",
       "    </tr>\n",
       "    <tr>\n",
       "      <th>1453</th>\n",
       "      <td>2.489856</td>\n",
       "      <td>2021-09-15</td>\n",
       "    </tr>\n",
       "    <tr>\n",
       "      <th>1454</th>\n",
       "      <td>2.421659</td>\n",
       "      <td>2021-09-16</td>\n",
       "    </tr>\n",
       "  </tbody>\n",
       "</table>\n",
       "</div>"
      ],
      "text/plain": [
       "      PriceUSD         ds\n",
       "1450  2.598626 2021-09-12\n",
       "1451  2.407190 2021-09-13\n",
       "1452  2.395207 2021-09-14\n",
       "1453  2.489856 2021-09-15\n",
       "1454  2.421659 2021-09-16"
      ]
     },
     "execution_count": 56,
     "metadata": {},
     "output_type": "execute_result"
    }
   ],
   "source": [
    "df.tail()"
   ]
  },
  {
   "cell_type": "markdown",
   "id": "84eda396-6ff4-4b9a-837c-4fe5a873aa4b",
   "metadata": {},
   "source": [
    "#### Check the dimesion of the dataFrame "
   ]
  },
  {
   "cell_type": "code",
   "execution_count": 57,
   "id": "aad146c4",
   "metadata": {},
   "outputs": [
    {
     "data": {
      "text/plain": [
       "(1455, 2)"
      ]
     },
     "execution_count": 57,
     "metadata": {},
     "output_type": "execute_result"
    }
   ],
   "source": [
    "df.shape"
   ]
  },
  {
   "cell_type": "markdown",
   "id": "f8adeaf8-ccb0-4a06-9f82-c08949a2a6da",
   "metadata": {},
   "source": [
    "#### Drop all the null cells in the dataFrame"
   ]
  },
  {
   "cell_type": "code",
   "execution_count": 58,
   "id": "3da40bec",
   "metadata": {},
   "outputs": [],
   "source": [
    "df.dropna(inplace=True)"
   ]
  },
  {
   "cell_type": "code",
   "execution_count": 59,
   "id": "9fe9b79a",
   "metadata": {},
   "outputs": [
    {
     "data": {
      "text/plain": [
       "(1386, 2)"
      ]
     },
     "execution_count": 59,
     "metadata": {},
     "output_type": "execute_result"
    }
   ],
   "source": [
    "df.shape"
   ]
  },
  {
   "cell_type": "markdown",
   "id": "cdea0b81-e5db-44cd-9210-6258072c18a1",
   "metadata": {},
   "source": [
    "#### Rename PriceUSD column to 'y' before feeding it the Facebook prophet model"
   ]
  },
  {
   "cell_type": "code",
   "execution_count": 61,
   "id": "d90443c7",
   "metadata": {},
   "outputs": [],
   "source": [
    "df['y'] = df['PriceUSD']"
   ]
  },
  {
   "cell_type": "markdown",
   "id": "425396d6-da51-4fe4-bc9a-8f69e6b40647",
   "metadata": {},
   "source": []
  },
  {
   "cell_type": "code",
   "execution_count": 37,
   "id": "57ffdcda",
   "metadata": {},
   "outputs": [
    {
     "data": {
      "text/html": [
       "<div>\n",
       "<style scoped>\n",
       "    .dataframe tbody tr th:only-of-type {\n",
       "        vertical-align: middle;\n",
       "    }\n",
       "\n",
       "    .dataframe tbody tr th {\n",
       "        vertical-align: top;\n",
       "    }\n",
       "\n",
       "    .dataframe thead th {\n",
       "        text-align: right;\n",
       "    }\n",
       "</style>\n",
       "<table border=\"1\" class=\"dataframe\">\n",
       "  <thead>\n",
       "    <tr style=\"text-align: right;\">\n",
       "      <th></th>\n",
       "      <th>ds</th>\n",
       "      <th>y</th>\n",
       "    </tr>\n",
       "  </thead>\n",
       "  <tbody>\n",
       "    <tr>\n",
       "      <th>69</th>\n",
       "      <td>2017-12-01</td>\n",
       "      <td>0.129954</td>\n",
       "    </tr>\n",
       "    <tr>\n",
       "      <th>70</th>\n",
       "      <td>2017-12-02</td>\n",
       "      <td>0.133454</td>\n",
       "    </tr>\n",
       "    <tr>\n",
       "      <th>71</th>\n",
       "      <td>2017-12-03</td>\n",
       "      <td>0.132005</td>\n",
       "    </tr>\n",
       "    <tr>\n",
       "      <th>72</th>\n",
       "      <td>2017-12-04</td>\n",
       "      <td>0.136586</td>\n",
       "    </tr>\n",
       "    <tr>\n",
       "      <th>73</th>\n",
       "      <td>2017-12-05</td>\n",
       "      <td>0.128868</td>\n",
       "    </tr>\n",
       "  </tbody>\n",
       "</table>\n",
       "</div>"
      ],
      "text/plain": [
       "           ds         y\n",
       "69 2017-12-01  0.129954\n",
       "70 2017-12-02  0.133454\n",
       "71 2017-12-03  0.132005\n",
       "72 2017-12-04  0.136586\n",
       "73 2017-12-05  0.128868"
      ]
     },
     "execution_count": 37,
     "metadata": {},
     "output_type": "execute_result"
    }
   ],
   "source": [
    "df.head()"
   ]
  },
  {
   "cell_type": "code",
   "execution_count": 63,
   "id": "4b92462d",
   "metadata": {},
   "outputs": [],
   "source": [
    "df.drop(['PriceUSD'], axis=1, inplace=True)\n",
    "df.columns = ['ds', 'y']"
   ]
  },
  {
   "cell_type": "code",
   "execution_count": 39,
   "id": "0e856fec",
   "metadata": {},
   "outputs": [
    {
     "data": {
      "text/html": [
       "<div>\n",
       "<style scoped>\n",
       "    .dataframe tbody tr th:only-of-type {\n",
       "        vertical-align: middle;\n",
       "    }\n",
       "\n",
       "    .dataframe tbody tr th {\n",
       "        vertical-align: top;\n",
       "    }\n",
       "\n",
       "    .dataframe thead th {\n",
       "        text-align: right;\n",
       "    }\n",
       "</style>\n",
       "<table border=\"1\" class=\"dataframe\">\n",
       "  <thead>\n",
       "    <tr style=\"text-align: right;\">\n",
       "      <th></th>\n",
       "      <th>ds</th>\n",
       "      <th>y</th>\n",
       "    </tr>\n",
       "  </thead>\n",
       "  <tbody>\n",
       "    <tr>\n",
       "      <th>69</th>\n",
       "      <td>2017-12-01</td>\n",
       "      <td>0.129954</td>\n",
       "    </tr>\n",
       "    <tr>\n",
       "      <th>70</th>\n",
       "      <td>2017-12-02</td>\n",
       "      <td>0.133454</td>\n",
       "    </tr>\n",
       "    <tr>\n",
       "      <th>71</th>\n",
       "      <td>2017-12-03</td>\n",
       "      <td>0.132005</td>\n",
       "    </tr>\n",
       "    <tr>\n",
       "      <th>72</th>\n",
       "      <td>2017-12-04</td>\n",
       "      <td>0.136586</td>\n",
       "    </tr>\n",
       "    <tr>\n",
       "      <th>73</th>\n",
       "      <td>2017-12-05</td>\n",
       "      <td>0.128868</td>\n",
       "    </tr>\n",
       "  </tbody>\n",
       "</table>\n",
       "</div>"
      ],
      "text/plain": [
       "           ds         y\n",
       "69 2017-12-01  0.129954\n",
       "70 2017-12-02  0.133454\n",
       "71 2017-12-03  0.132005\n",
       "72 2017-12-04  0.136586\n",
       "73 2017-12-05  0.128868"
      ]
     },
     "execution_count": 39,
     "metadata": {},
     "output_type": "execute_result"
    }
   ],
   "source": [
    "df.head()"
   ]
  },
  {
   "cell_type": "code",
   "execution_count": 64,
   "id": "a70600af",
   "metadata": {},
   "outputs": [
    {
     "data": {
      "text/plain": [
       "(1386, 2)"
      ]
     },
     "execution_count": 64,
     "metadata": {},
     "output_type": "execute_result"
    }
   ],
   "source": [
    "df.shape"
   ]
  },
  {
   "cell_type": "markdown",
   "id": "199a7041-4604-49c1-99dd-7bab68373434",
   "metadata": {},
   "source": [
    "## Training model"
   ]
  },
  {
   "cell_type": "code",
   "execution_count": 41,
   "id": "097b2842",
   "metadata": {},
   "outputs": [],
   "source": [
    "m = Prophet(interval_width=0.95, daily_seasonality=True)\n",
    "model = m.fit(df)"
   ]
  },
  {
   "cell_type": "markdown",
   "id": "2ea78711-0ce5-40f3-855f-f622b42a3b6e",
   "metadata": {},
   "source": [
    "## Predict price (Forcast away)"
   ]
  },
  {
   "cell_type": "code",
   "execution_count": 27,
   "id": "f0884765",
   "metadata": {},
   "outputs": [
    {
     "data": {
      "text/html": [
       "<div>\n",
       "<style scoped>\n",
       "    .dataframe tbody tr th:only-of-type {\n",
       "        vertical-align: middle;\n",
       "    }\n",
       "\n",
       "    .dataframe tbody tr th {\n",
       "        vertical-align: top;\n",
       "    }\n",
       "\n",
       "    .dataframe thead th {\n",
       "        text-align: right;\n",
       "    }\n",
       "</style>\n",
       "<table border=\"1\" class=\"dataframe\">\n",
       "  <thead>\n",
       "    <tr style=\"text-align: right;\">\n",
       "      <th></th>\n",
       "      <th>ds</th>\n",
       "      <th>trend</th>\n",
       "      <th>yhat_lower</th>\n",
       "      <th>yhat_upper</th>\n",
       "      <th>trend_lower</th>\n",
       "      <th>trend_upper</th>\n",
       "      <th>additive_terms</th>\n",
       "      <th>additive_terms_lower</th>\n",
       "      <th>additive_terms_upper</th>\n",
       "      <th>daily</th>\n",
       "      <th>...</th>\n",
       "      <th>weekly</th>\n",
       "      <th>weekly_lower</th>\n",
       "      <th>weekly_upper</th>\n",
       "      <th>yearly</th>\n",
       "      <th>yearly_lower</th>\n",
       "      <th>yearly_upper</th>\n",
       "      <th>multiplicative_terms</th>\n",
       "      <th>multiplicative_terms_lower</th>\n",
       "      <th>multiplicative_terms_upper</th>\n",
       "      <th>yhat</th>\n",
       "    </tr>\n",
       "  </thead>\n",
       "  <tbody>\n",
       "    <tr>\n",
       "      <th>0</th>\n",
       "      <td>2017-12-01</td>\n",
       "      <td>0.205444</td>\n",
       "      <td>0.102779</td>\n",
       "      <td>0.730033</td>\n",
       "      <td>0.205444</td>\n",
       "      <td>0.205444</td>\n",
       "      <td>0.211635</td>\n",
       "      <td>0.211635</td>\n",
       "      <td>0.211635</td>\n",
       "      <td>0.305031</td>\n",
       "      <td>...</td>\n",
       "      <td>-0.001342</td>\n",
       "      <td>-0.001342</td>\n",
       "      <td>-0.001342</td>\n",
       "      <td>-0.092054</td>\n",
       "      <td>-0.092054</td>\n",
       "      <td>-0.092054</td>\n",
       "      <td>0.0</td>\n",
       "      <td>0.0</td>\n",
       "      <td>0.0</td>\n",
       "      <td>0.417079</td>\n",
       "    </tr>\n",
       "    <tr>\n",
       "      <th>1</th>\n",
       "      <td>2017-12-02</td>\n",
       "      <td>0.203570</td>\n",
       "      <td>0.104424</td>\n",
       "      <td>0.722096</td>\n",
       "      <td>0.203570</td>\n",
       "      <td>0.203570</td>\n",
       "      <td>0.210466</td>\n",
       "      <td>0.210466</td>\n",
       "      <td>0.210466</td>\n",
       "      <td>0.305031</td>\n",
       "      <td>...</td>\n",
       "      <td>0.002674</td>\n",
       "      <td>0.002674</td>\n",
       "      <td>0.002674</td>\n",
       "      <td>-0.097239</td>\n",
       "      <td>-0.097239</td>\n",
       "      <td>-0.097239</td>\n",
       "      <td>0.0</td>\n",
       "      <td>0.0</td>\n",
       "      <td>0.0</td>\n",
       "      <td>0.414036</td>\n",
       "    </tr>\n",
       "    <tr>\n",
       "      <th>2</th>\n",
       "      <td>2017-12-03</td>\n",
       "      <td>0.201696</td>\n",
       "      <td>0.089251</td>\n",
       "      <td>0.717617</td>\n",
       "      <td>0.201696</td>\n",
       "      <td>0.201696</td>\n",
       "      <td>0.206659</td>\n",
       "      <td>0.206659</td>\n",
       "      <td>0.206659</td>\n",
       "      <td>0.305031</td>\n",
       "      <td>...</td>\n",
       "      <td>0.003672</td>\n",
       "      <td>0.003672</td>\n",
       "      <td>0.003672</td>\n",
       "      <td>-0.102044</td>\n",
       "      <td>-0.102044</td>\n",
       "      <td>-0.102044</td>\n",
       "      <td>0.0</td>\n",
       "      <td>0.0</td>\n",
       "      <td>0.0</td>\n",
       "      <td>0.408355</td>\n",
       "    </tr>\n",
       "    <tr>\n",
       "      <th>3</th>\n",
       "      <td>2017-12-04</td>\n",
       "      <td>0.199823</td>\n",
       "      <td>0.094044</td>\n",
       "      <td>0.682577</td>\n",
       "      <td>0.199823</td>\n",
       "      <td>0.199823</td>\n",
       "      <td>0.197323</td>\n",
       "      <td>0.197323</td>\n",
       "      <td>0.197323</td>\n",
       "      <td>0.305031</td>\n",
       "      <td>...</td>\n",
       "      <td>-0.001312</td>\n",
       "      <td>-0.001312</td>\n",
       "      <td>-0.001312</td>\n",
       "      <td>-0.106396</td>\n",
       "      <td>-0.106396</td>\n",
       "      <td>-0.106396</td>\n",
       "      <td>0.0</td>\n",
       "      <td>0.0</td>\n",
       "      <td>0.0</td>\n",
       "      <td>0.397145</td>\n",
       "    </tr>\n",
       "    <tr>\n",
       "      <th>4</th>\n",
       "      <td>2017-12-05</td>\n",
       "      <td>0.197949</td>\n",
       "      <td>0.094005</td>\n",
       "      <td>0.699000</td>\n",
       "      <td>0.197949</td>\n",
       "      <td>0.197949</td>\n",
       "      <td>0.190931</td>\n",
       "      <td>0.190931</td>\n",
       "      <td>0.190931</td>\n",
       "      <td>0.305031</td>\n",
       "      <td>...</td>\n",
       "      <td>-0.003875</td>\n",
       "      <td>-0.003875</td>\n",
       "      <td>-0.003875</td>\n",
       "      <td>-0.110225</td>\n",
       "      <td>-0.110225</td>\n",
       "      <td>-0.110225</td>\n",
       "      <td>0.0</td>\n",
       "      <td>0.0</td>\n",
       "      <td>0.0</td>\n",
       "      <td>0.388879</td>\n",
       "    </tr>\n",
       "  </tbody>\n",
       "</table>\n",
       "<p>5 rows × 22 columns</p>\n",
       "</div>"
      ],
      "text/plain": [
       "          ds     trend  yhat_lower  yhat_upper  trend_lower  trend_upper  \\\n",
       "0 2017-12-01  0.205444    0.102779    0.730033     0.205444     0.205444   \n",
       "1 2017-12-02  0.203570    0.104424    0.722096     0.203570     0.203570   \n",
       "2 2017-12-03  0.201696    0.089251    0.717617     0.201696     0.201696   \n",
       "3 2017-12-04  0.199823    0.094044    0.682577     0.199823     0.199823   \n",
       "4 2017-12-05  0.197949    0.094005    0.699000     0.197949     0.197949   \n",
       "\n",
       "   additive_terms  additive_terms_lower  additive_terms_upper     daily  ...  \\\n",
       "0        0.211635              0.211635              0.211635  0.305031  ...   \n",
       "1        0.210466              0.210466              0.210466  0.305031  ...   \n",
       "2        0.206659              0.206659              0.206659  0.305031  ...   \n",
       "3        0.197323              0.197323              0.197323  0.305031  ...   \n",
       "4        0.190931              0.190931              0.190931  0.305031  ...   \n",
       "\n",
       "     weekly  weekly_lower  weekly_upper    yearly  yearly_lower  yearly_upper  \\\n",
       "0 -0.001342     -0.001342     -0.001342 -0.092054     -0.092054     -0.092054   \n",
       "1  0.002674      0.002674      0.002674 -0.097239     -0.097239     -0.097239   \n",
       "2  0.003672      0.003672      0.003672 -0.102044     -0.102044     -0.102044   \n",
       "3 -0.001312     -0.001312     -0.001312 -0.106396     -0.106396     -0.106396   \n",
       "4 -0.003875     -0.003875     -0.003875 -0.110225     -0.110225     -0.110225   \n",
       "\n",
       "   multiplicative_terms  multiplicative_terms_lower  \\\n",
       "0                   0.0                         0.0   \n",
       "1                   0.0                         0.0   \n",
       "2                   0.0                         0.0   \n",
       "3                   0.0                         0.0   \n",
       "4                   0.0                         0.0   \n",
       "\n",
       "   multiplicative_terms_upper      yhat  \n",
       "0                         0.0  0.417079  \n",
       "1                         0.0  0.414036  \n",
       "2                         0.0  0.408355  \n",
       "3                         0.0  0.397145  \n",
       "4                         0.0  0.388879  \n",
       "\n",
       "[5 rows x 22 columns]"
      ]
     },
     "execution_count": 27,
     "metadata": {},
     "output_type": "execute_result"
    }
   ],
   "source": [
    "future = m.make_future_dataframe(periods=100,freq='D')\n",
    "forecast = m.predict(future)\n",
    "forecast.head()"
   ]
  },
  {
   "cell_type": "markdown",
   "id": "3ba23619-5507-4240-9aa1-bcd8b61dffab",
   "metadata": {},
   "source": [
    "### Plot the pridicted prices for Cardano (ADA)"
   ]
  },
  {
   "cell_type": "code",
   "execution_count": 28,
   "id": "a0326753",
   "metadata": {},
   "outputs": [
    {
     "data": {
      "image/png": "[encoded data removed]",
      "text/plain": [
       "<Figure size 720x432 with 1 Axes>"
      ]
     },
     "metadata": {},
     "output_type": "display_data"
    }
   ],
   "source": [
    "plot1 = m.plot(forecast)"
   ]
  },
  {
   "cell_type": "code",
   "execution_count": 29,
   "id": "a8ada1cd",
   "metadata": {},
   "outputs": [
    {
     "data": {
      "image/png": "[encoded data removed]",
      "text/plain": [
       "<Figure size 648x864 with 4 Axes>"
      ]
     },
     "metadata": {},
     "output_type": "display_data"
    }
   ],
   "source": [
    "plt2 = m.plot_components(forecast)"
   ]
  },
  {
   "cell_type": "code",
   "execution_count": null,
   "id": "dc0cb810",
   "metadata": {},
   "outputs": [],
   "source": []
  },
  {
   "cell_type": "code",
   "execution_count": null,
   "id": "ab9c7ec9-6e21-423e-a436-4813014780a3",
   "metadata": {},
   "outputs": [],
   "source": []
  }
 ],
 "metadata": {
  "kernelspec": {
   "display_name": "Python 3",
   "language": "python",
   "name": "python3"
  },
  "language_info": {
   "codemirror_mode": {
    "name": "ipython",
    "version": 3
   },
   "file_extension": ".py",
   "mimetype": "text/x-python",
   "name": "python",
   "nbconvert_exporter": "python",
   "pygments_lexer": "ipython3",
   "version": "3.8.8"
  }
 },
 "nbformat": 4,
 "nbformat_minor": 5
}
